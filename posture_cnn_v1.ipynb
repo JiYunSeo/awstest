{
 "cells": [
  {
   "cell_type": "code",
   "execution_count": 1,
   "metadata": {},
   "outputs": [],
   "source": [
    "import os\n",
    "import cv2 \n",
    "from tensorflow.keras.preprocessing.image import ImageDataGenerator\n",
    "rootPath = '../input/train_posture2'"
   ]
  },
  {
   "cell_type": "code",
   "execution_count": 2,
   "metadata": {},
   "outputs": [],
   "source": [
    "imageGenerator = ImageDataGenerator(rescale=1./255,\n",
    "                                    #rotation_range=40,\n",
    "                                    #width_shift_range=0.03,\n",
    "                                    #height_shift_range=0.03,\n",
    "                                    #horizontal_flip=False,\n",
    "                                    validation_split=.2)"
   ]
  },
  {
   "cell_type": "code",
   "execution_count": 3,
   "metadata": {},
   "outputs": [
    {
     "name": "stdout",
     "output_type": "stream",
     "text": [
      "Found 7771 images belonging to 5 classes.\n",
      "Found 1941 images belonging to 5 classes.\n"
     ]
    }
   ],
   "source": [
    "trainGen = imageGenerator.flow_from_directory(os.path.join(rootPath,'training_set'),\n",
    "                                              target_size=(64,64),\n",
    "                                              color_mode=\"grayscale\",\n",
    "                                              subset='training')\n",
    "\n",
    "validationGen = imageGenerator.flow_from_directory(os.path.join(rootPath,'training_set'),\n",
    "                                                    target_size=(64,64),color_mode=\"grayscale\",\n",
    "                                                    subset='validation')"
   ]
  },
  {
   "cell_type": "code",
   "execution_count": 4,
   "metadata": {},
   "outputs": [],
   "source": [
    "from tensorflow.keras.models import Sequential\n",
    "from tensorflow.keras import layers\n",
    "\n",
    "model = Sequential()"
   ]
  },
  {
   "cell_type": "code",
   "execution_count": 5,
   "metadata": {},
   "outputs": [
    {
     "name": "stdout",
     "output_type": "stream",
     "text": [
      "WARNING:tensorflow:From D:\\anaconda\\envs\\gpu\\lib\\site-packages\\tensorflow_core\\python\\ops\\resource_variable_ops.py:1630: calling BaseResourceVariable.__init__ (from tensorflow.python.ops.resource_variable_ops) with constraint is deprecated and will be removed in a future version.\n",
      "Instructions for updating:\n",
      "If using Keras pass *_constraint arguments to layers.\n",
      "Model: \"sequential\"\n",
      "_________________________________________________________________\n",
      "Layer (type)                 Output Shape              Param #   \n",
      "=================================================================\n",
      "conv2d (Conv2D)              (None, 64, 64, 16)        160       \n",
      "_________________________________________________________________\n",
      "max_pooling2d (MaxPooling2D) (None, 32, 32, 16)        0         \n",
      "_________________________________________________________________\n",
      "dropout (Dropout)            (None, 32, 32, 16)        0         \n",
      "_________________________________________________________________\n",
      "conv2d_1 (Conv2D)            (None, 32, 32, 32)        4640      \n",
      "_________________________________________________________________\n",
      "max_pooling2d_1 (MaxPooling2 (None, 16, 16, 32)        0         \n",
      "_________________________________________________________________\n",
      "dropout_1 (Dropout)          (None, 16, 16, 32)        0         \n",
      "_________________________________________________________________\n",
      "conv2d_2 (Conv2D)            (None, 16, 16, 64)        18496     \n",
      "_________________________________________________________________\n",
      "max_pooling2d_2 (MaxPooling2 (None, 8, 8, 64)          0         \n",
      "_________________________________________________________________\n",
      "dropout_2 (Dropout)          (None, 8, 8, 64)          0         \n",
      "_________________________________________________________________\n",
      "flatten (Flatten)            (None, 4096)              0         \n",
      "_________________________________________________________________\n",
      "dense (Dense)                (None, 256)               1048832   \n",
      "_________________________________________________________________\n",
      "dropout_3 (Dropout)          (None, 256)               0         \n",
      "_________________________________________________________________\n",
      "dense_1 (Dense)              (None, 256)               65792     \n",
      "_________________________________________________________________\n",
      "dropout_4 (Dropout)          (None, 256)               0         \n",
      "_________________________________________________________________\n",
      "dense_2 (Dense)              (None, 5)                 1285      \n",
      "=================================================================\n",
      "Total params: 1,139,205\n",
      "Trainable params: 1,139,205\n",
      "Non-trainable params: 0\n",
      "_________________________________________________________________\n"
     ]
    }
   ],
   "source": [
    "model.add(layers.InputLayer(input_shape=(64,64,1)))\n",
    "model.add(layers.Conv2D(16,(3,3),(1,1),'same',activation='relu'))\n",
    "model.add(layers.MaxPooling2D((2, 2)))\n",
    "model.add(layers.Dropout(rate=0.3))\n",
    "\n",
    "model.add(layers.Conv2D(32, (3, 3), (1, 1), 'same', activation='relu'))\n",
    "model.add(layers.MaxPooling2D((2, 2)))\n",
    "model.add(layers.Dropout(rate=0.3))\n",
    "\n",
    "model.add(layers.Conv2D(64, (3, 3), (1, 1), 'same', activation='relu'))\n",
    "model.add(layers.MaxPooling2D((2, 2)))\n",
    "model.add(layers.Dropout(rate=0.3))\n",
    "\n",
    "model.add(layers.Flatten())\n",
    "model.add(layers.Dense(256, activation='relu'))\n",
    "model.add(layers.Dropout(rate=0.3))\n",
    "model.add(layers.Dense(256, activation='relu'))\n",
    "model.add(layers.Dropout(rate=0.3))\n",
    "model.add(layers.Dense(5, activation='softmax'))\n",
    "\n",
    "model.summary()"
   ]
  },
  {
   "cell_type": "code",
   "execution_count": 6,
   "metadata": {},
   "outputs": [
    {
     "name": "stderr",
     "output_type": "stream",
     "text": [
      "Using TensorFlow backend.\n"
     ]
    }
   ],
   "source": [
    "from tensorflow.keras import optimizers\n",
    "from keras.callbacks import EarlyStopping\n",
    "\n",
    "\n",
    "opt = optimizers.Adam(lr=0.0001)\n",
    "\n",
    "model.compile(\n",
    "    optimizer=opt,\n",
    "    loss='categorical_crossentropy', \n",
    "    metrics=['acc'],\n",
    ")"
   ]
  },
  {
   "cell_type": "code",
   "execution_count": 7,
   "metadata": {
    "scrolled": false
   },
   "outputs": [
    {
     "name": "stdout",
     "output_type": "stream",
     "text": [
      "Epoch 1/32\n",
      "240/242 [============================>.] - ETA: 0s - loss: 1.1108 - acc: 0.5515Epoch 1/32\n",
      "243/242 [==============================] - 16s 65ms/step - loss: 0.6619 - acc: 0.8109\n",
      "243/242 [==============================] - 36s 149ms/step - loss: 1.1048 - acc: 0.5541 - val_loss: 0.6623 - val_acc: 0.8109\n",
      "Epoch 2/32\n",
      "242/242 [============================>.] - ETA: 0s - loss: 0.4793 - acc: 0.8359Epoch 1/32\n",
      "243/242 [==============================] - 15s 60ms/step - loss: 0.3250 - acc: 0.9281\n",
      "243/242 [==============================] - 29s 120ms/step - loss: 0.4781 - acc: 0.8362 - val_loss: 0.3252 - val_acc: 0.9281\n",
      "Epoch 3/32\n",
      "242/242 [============================>.] - ETA: 0s - loss: 0.2602 - acc: 0.9130Epoch 1/32\n",
      "243/242 [==============================] - 15s 60ms/step - loss: 0.2020 - acc: 0.9370\n",
      "243/242 [==============================] - 29s 119ms/step - loss: 0.2593 - acc: 0.9134 - val_loss: 0.2021 - val_acc: 0.9370\n",
      "Epoch 4/32\n",
      "242/242 [============================>.] - ETA: 0s - loss: 0.1601 - acc: 0.9477Epoch 1/32\n",
      "243/242 [==============================] - 15s 60ms/step - loss: 0.1355 - acc: 0.9624\n",
      "243/242 [==============================] - 29s 118ms/step - loss: 0.1600 - acc: 0.9478 - val_loss: 0.1356 - val_acc: 0.9624\n",
      "Epoch 5/32\n",
      "242/242 [============================>.] - ETA: 0s - loss: 0.1102 - acc: 0.9634Epoch 1/32\n",
      "243/242 [==============================] - 15s 60ms/step - loss: 0.0896 - acc: 0.9793 0s - loss: 0.0900 - ac\n",
      "243/242 [==============================] - 29s 117ms/step - loss: 0.1100 - acc: 0.9636 - val_loss: 0.0897 - val_acc: 0.9793\n",
      "Epoch 6/32\n",
      "242/242 [============================>.] - ETA: 0s - loss: 0.0803 - acc: 0.9752Epoch 1/32\n",
      "243/242 [==============================] - 15s 60ms/step - loss: 0.0648 - acc: 0.9830\n",
      "243/242 [==============================] - 29s 118ms/step - loss: 0.0800 - acc: 0.9753 - val_loss: 0.0648 - val_acc: 0.9830\n",
      "Epoch 7/32\n",
      "242/242 [============================>.] - ETA: 0s - loss: 0.0609 - acc: 0.9815Epoch 1/32\n",
      "243/242 [==============================] - 15s 60ms/step - loss: 0.0509 - acc: 0.9871\n",
      "243/242 [==============================] - 29s 118ms/step - loss: 0.0609 - acc: 0.9815 - val_loss: 0.0509 - val_acc: 0.9871\n",
      "Epoch 8/32\n",
      "242/242 [============================>.] - ETA: 0s - loss: 0.0457 - acc: 0.9845Epoch 1/32\n",
      "243/242 [==============================] - 15s 60ms/step - loss: 0.0430 - acc: 0.9871\n",
      "243/242 [==============================] - 29s 118ms/step - loss: 0.0457 - acc: 0.9844 - val_loss: 0.0431 - val_acc: 0.9871\n",
      "Epoch 9/32\n",
      "242/242 [============================>.] - ETA: 0s - loss: 0.0381 - acc: 0.9888Epoch 1/32\n",
      "243/242 [==============================] - 15s 60ms/step - loss: 0.0409 - acc: 0.9881\n",
      "243/242 [==============================] - 29s 117ms/step - loss: 0.0379 - acc: 0.9888 - val_loss: 0.0410 - val_acc: 0.9881\n",
      "Epoch 10/32\n",
      "242/242 [============================>.] - ETA: 0s - loss: 0.0318 - acc: 0.9894Epoch 1/32\n",
      "243/242 [==============================] - 15s 60ms/step - loss: 0.0324 - acc: 0.9923\n",
      "243/242 [==============================] - 29s 118ms/step - loss: 0.0318 - acc: 0.9893 - val_loss: 0.0325 - val_acc: 0.9923\n",
      "Epoch 11/32\n",
      "242/242 [============================>.] - ETA: 0s - loss: 0.0247 - acc: 0.9917Epoch 1/32\n",
      "243/242 [==============================] - 15s 60ms/step - loss: 0.0253 - acc: 0.9948\n",
      "243/242 [==============================] - 29s 118ms/step - loss: 0.0248 - acc: 0.9918 - val_loss: 0.0253 - val_acc: 0.9948\n",
      "Epoch 12/32\n",
      "242/242 [============================>.] - ETA: 0s - loss: 0.0235 - acc: 0.9924- ETAEpoch 1/32\n",
      "243/242 [==============================] - 15s 60ms/step - loss: 0.0251 - acc: 0.9912\n",
      "243/242 [==============================] - 29s 118ms/step - loss: 0.0235 - acc: 0.9924 - val_loss: 0.0251 - val_acc: 0.9912\n",
      "Epoch 13/32\n",
      "242/242 [============================>.] - ETA: 0s - loss: 0.0180 - acc: 0.9947Epoch 1/32\n",
      "243/242 [==============================] - 15s 60ms/step - loss: 0.0457 - acc: 0.9861\n",
      "243/242 [==============================] - 28s 117ms/step - loss: 0.0179 - acc: 0.9947 - val_loss: 0.0457 - val_acc: 0.9861\n",
      "Epoch 14/32\n",
      "242/242 [============================>.] - ETA: 0s - loss: 0.0221 - acc: 0.9921Epoch 1/32\n",
      "243/242 [==============================] - 15s 60ms/step - loss: 0.0221 - acc: 0.9943\n",
      "243/242 [==============================] - 29s 117ms/step - loss: 0.0222 - acc: 0.9920 - val_loss: 0.0222 - val_acc: 0.9943\n",
      "Epoch 15/32\n",
      "242/242 [============================>.] - ETA: 0s - loss: 0.0162 - acc: 0.9943- EEpoch 1/32\n",
      "243/242 [==============================] - 15s 60ms/step - loss: 0.0214 - acc: 0.9938\n",
      "243/242 [==============================] - 29s 117ms/step - loss: 0.0161 - acc: 0.9943 - val_loss: 0.0214 - val_acc: 0.9938\n",
      "Epoch 16/32\n",
      "242/242 [============================>.] - ETA: 0s - loss: 0.0121 - acc: 0.9961Epoch 1/32\n",
      "243/242 [==============================] - 14s 60ms/step - loss: 0.0219 - acc: 0.9943\n",
      "243/242 [==============================] - 29s 118ms/step - loss: 0.0123 - acc: 0.9960 - val_loss: 0.0219 - val_acc: 0.9943\n",
      "Epoch 17/32\n",
      "242/242 [============================>.] - ETA: 0s - loss: 0.0154 - acc: 0.9947Epoch 1/32\n",
      "243/242 [==============================] - 15s 60ms/step - loss: 0.0166 - acc: 0.9938\n",
      "243/242 [==============================] - 28s 117ms/step - loss: 0.0154 - acc: 0.9947 - val_loss: 0.0166 - val_acc: 0.9938\n",
      "Epoch 18/32\n",
      "242/242 [============================>.] - ETA: 0s - loss: 0.0143 - acc: 0.9951Epoch 1/32\n",
      "243/242 [==============================] - 15s 60ms/step - loss: 0.0158 - acc: 0.9943\n",
      "243/242 [==============================] - 29s 117ms/step - loss: 0.0143 - acc: 0.9951 - val_loss: 0.0158 - val_acc: 0.9943\n",
      "Epoch 19/32\n",
      "242/242 [============================>.] - ETA: 0s - loss: 0.0092 - acc: 0.9969Epoch 1/32\n",
      "243/242 [==============================] - 15s 60ms/step - loss: 0.0168 - acc: 0.9943\n",
      "243/242 [==============================] - 28s 117ms/step - loss: 0.0092 - acc: 0.9969 - val_loss: 0.0168 - val_acc: 0.9943\n",
      "Epoch 20/32\n",
      "242/242 [============================>.] - ETA: 0s - loss: 0.0107 - acc: 0.9966Epoch 1/32\n",
      "243/242 [==============================] - 15s 60ms/step - loss: 0.0297 - acc: 0.9903\n",
      "243/242 [==============================] - 29s 118ms/step - loss: 0.0107 - acc: 0.9967 - val_loss: 0.0297 - val_acc: 0.9903\n",
      "Epoch 21/32\n",
      "242/242 [============================>.] - ETA: 0s - loss: 0.0102 - acc: 0.9966Epoch 1/32\n",
      "243/242 [==============================] - 15s 60ms/step - loss: 0.0127 - acc: 0.9954\n",
      "243/242 [==============================] - 29s 118ms/step - loss: 0.0101 - acc: 0.9967 - val_loss: 0.0127 - val_acc: 0.9954\n",
      "Epoch 22/32\n",
      "242/242 [============================>.] - ETA: 0s - loss: 0.0086 - acc: 0.9969Epoch 1/32\n",
      "243/242 [==============================] - 15s 60ms/step - loss: 0.0151 - acc: 0.9959\n",
      "243/242 [==============================] - 29s 117ms/step - loss: 0.0085 - acc: 0.9969 - val_loss: 0.0151 - val_acc: 0.9959\n",
      "Epoch 23/32\n",
      "242/242 [============================>.] - ETA: 0s - loss: 0.0070 - acc: 0.9978Epoch 1/32\n",
      "243/242 [==============================] - 15s 60ms/step - loss: 0.0118 - acc: 0.9964\n",
      "243/242 [==============================] - 29s 117ms/step - loss: 0.0071 - acc: 0.9978 - val_loss: 0.0118 - val_acc: 0.9964\n",
      "Epoch 24/32\n",
      "242/242 [============================>.] - ETA: 0s - loss: 0.0089 - acc: 0.9970- ETEpoch 1/32\n",
      "243/242 [==============================] - 15s 60ms/step - loss: 0.0350 - acc: 0.9899\n",
      "243/242 [==============================] - 29s 118ms/step - loss: 0.0088 - acc: 0.9970 - val_loss: 0.0350 - val_acc: 0.9899\n",
      "Epoch 25/32\n",
      "242/242 [============================>.] - ETA: 0s - loss: 0.0044 - acc: 0.9987Epoch 1/32\n",
      "243/242 [==============================] - 15s 60ms/step - loss: 0.0119 - acc: 0.9959\n",
      "243/242 [==============================] - 29s 118ms/step - loss: 0.0044 - acc: 0.9987 - val_loss: 0.0119 - val_acc: 0.9959\n",
      "Epoch 26/32\n",
      "242/242 [============================>.] - ETA: 0s - loss: 0.0058 - acc: 0.9983Epoch 1/32\n",
      "243/242 [==============================] - 15s 60ms/step - loss: 0.0325 - acc: 0.9902\n",
      "243/242 [==============================] - 29s 118ms/step - loss: 0.0058 - acc: 0.9983 - val_loss: 0.0325 - val_acc: 0.9902\n",
      "Epoch 27/32\n",
      "242/242 [============================>.] - ETA: 0s - loss: 0.0063 - acc: 0.9983Epoch 1/32\n",
      "243/242 [==============================] - 15s 60ms/step - loss: 0.0296 - acc: 0.9902\n",
      "243/242 [==============================] - 28s 117ms/step - loss: 0.0063 - acc: 0.9983 - val_loss: 0.0297 - val_acc: 0.9902\n",
      "Epoch 28/32\n",
      "242/242 [============================>.] - ETA: 0s - loss: 0.0069 - acc: 0.9975- ETA: 0s - loss: 0.0069 - Epoch 1/32\n",
      "243/242 [==============================] - 15s 60ms/step - loss: 0.0148 - acc: 0.9954\n",
      "243/242 [==============================] - 28s 117ms/step - loss: 0.0069 - acc: 0.9976 - val_loss: 0.0148 - val_acc: 0.9954\n"
     ]
    }
   ],
   "source": [
    "epochs = 32\n",
    "es = EarlyStopping(monitor='val_loss', mode='min', patience=5)\n",
    "\n",
    "history = model.fit_generator(\n",
    "    trainGen, \n",
    "    epochs=epochs,\n",
    "    steps_per_epoch=trainGen.samples / epochs, \n",
    "    validation_data=validationGen,\n",
    "    validation_steps=trainGen.samples / epochs,\n",
    "    callbacks=[es]\n",
    ")"
   ]
  },
  {
   "cell_type": "code",
   "execution_count": 8,
   "metadata": {},
   "outputs": [
    {
     "data": {
      "image/png": "[encoded data removed]",
      "text/plain": [
       "<Figure size 1152x144 with 2 Axes>"
      ]
     },
     "metadata": {
      "needs_background": "light"
     },
     "output_type": "display_data"
    }
   ],
   "source": [
    "import matplotlib.pyplot as plt\n",
    "from pylab import figure, axes, pie, title, savefig\n",
    "\n",
    "def show_graph(history_dict):\n",
    "    accuracy = history_dict['acc']\n",
    "    val_accuracy = history_dict['val_acc']\n",
    "    loss = history_dict['loss']\n",
    "    val_loss = history_dict['val_loss']\n",
    "\n",
    "    epochs = range(1, len(loss) + 1)\n",
    "    \n",
    "    plt.figure(figsize=(16, 2))\n",
    "    \n",
    "    plt.subplot(121)\n",
    "    plt.subplots_adjust(top=2)\n",
    "    plt.plot(epochs, accuracy, label='Training accuracy')\n",
    "    plt.plot(epochs, val_accuracy, label='Validation accuracy')\n",
    "    plt.xlabel('Epochs')\n",
    "    plt.ylabel('Accuracy')\n",
    "\n",
    "    plt.legend(loc='upper center', bbox_to_anchor=(0.5, -0.1),\n",
    "              fancybox=True, shadow=True, ncol=5)\n",
    "#     plt.legend(bbox_to_anchor=(1, -0.1))\n",
    "\n",
    "    plt.subplot(122)\n",
    "    plt.plot(epochs, loss, label='Training loss')\n",
    "    plt.plot(epochs, val_loss, label='Validation loss')\n",
    "    plt.xlabel('Epochs')\n",
    "    plt.ylabel('Loss')\n",
    "    plt.legend(loc='upper center', bbox_to_anchor=(0.5, -0.1),\n",
    "          fancybox=True, shadow=True, ncol=5)\n",
    "#     plt.legend(bbox_to_anchor=(1, 0))\n",
    "    fig = plt.gcf()\n",
    "    plt.show()\n",
    "    fig.savefig('../posture_result/reslut00.png' ,bbox_inches='tight')\n",
    "show_graph(history.history)"
   ]
  },
  {
   "cell_type": "code",
   "execution_count": 9,
   "metadata": {},
   "outputs": [
    {
     "name": "stdout",
     "output_type": "stream",
     "text": [
      "Normalized confusion matrix\n"
     ]
    },
    {
     "data": {
      "image/png": "[encoded data removed]",
      "text/plain": [
       "<Figure size 720x720 with 2 Axes>"
      ]
     },
     "metadata": {
      "needs_background": "light"
     },
     "output_type": "display_data"
    }
   ],
   "source": [
    "import itertools\n",
    "from sklearn.metrics import confusion_matrix\n",
    "import numpy as np\n",
    "\n",
    "\n",
    "def plot_confusion_matrix(cm, classes,\n",
    "                          normalize=False,\n",
    "                          title='Confusion matrix',\n",
    "                          cmap=plt.cm.Blues):\n",
    "\n",
    "    if normalize:\n",
    "        cm = cm.astype('float') / cm.sum(axis=1)[:, np.newaxis]\n",
    "        print(\"Normalized confusion matrix\")\n",
    "    else:\n",
    "        print('Confusion matrix, without normalization')\n",
    "        \n",
    "    \n",
    "    plt.imshow(cm, interpolation='nearest', cmap=cmap)\n",
    "    plt.title(title)\n",
    "    plt.colorbar()\n",
    "    tick_marks = np.arange(len(classes))\n",
    "    plt.xticks(tick_marks, classes, rotation=45)\n",
    "    plt.yticks(tick_marks, classes)\n",
    "\n",
    "   \n",
    "    fmt = '.2f' if normalize else 'd'\n",
    "    thresh = cm.max() / 2.\n",
    "    for i, j in itertools.product(range(cm.shape[0]), range(cm.shape[1])):\n",
    "        plt.text(j, i, format(cm[i, j], fmt),\n",
    "                 horizontalalignment=\"center\",\n",
    "                 color=\"white\" if cm[i, j] > thresh else \"black\")\n",
    "\n",
    "    plt.tight_layout()\n",
    "    plt.ylabel('True label')\n",
    "    plt.xlabel('Predicted label')\n",
    "\n",
    "    \n",
    "predictions = model.predict(x=validationGen, verbose=0)\n",
    "cm = confusion_matrix(y_true=validationGen.classes, y_pred=np.argmax(predictions, axis=-1))    \n",
    "validationGen.class_indices\n",
    "\n",
    "cm_plot_labels = ['N', 'L','R','F','B']\n",
    "plt.figure(figsize=(10, 10))\n",
    "plot_confusion_matrix(cm=cm, classes=cm_plot_labels, title='Confusion Matrix', normalize=True)\n"
   ]
  },
  {
   "cell_type": "code",
   "execution_count": 10,
   "metadata": {},
   "outputs": [
    {
     "name": "stdout",
     "output_type": "stream",
     "text": [
      "Found 995 images belonging to 5 classes.\n"
     ]
    }
   ],
   "source": [
    "testGenerator = ImageDataGenerator(\n",
    "    rescale=1./255\n",
    ")\n",
    "\n",
    "testGen = imageGenerator.flow_from_directory(\n",
    "    os.path.join(rootPath, 'test_set'),\n",
    "    color_mode=\"grayscale\",\n",
    "    target_size=(64, 64)\n",
    ")\n",
    "\n",
    "#model.evaluate_generator(testGen)"
   ]
  },
  {
   "cell_type": "code",
   "execution_count": 11,
   "metadata": {},
   "outputs": [
    {
     "name": "stdout",
     "output_type": "stream",
     "text": [
      "예측: Front\n"
     ]
    },
    {
     "ename": "IndexError",
     "evalue": "list index out of range",
     "output_type": "error",
     "traceback": [
      "\u001b[1;31m---------------------------------------------------------------------------\u001b[0m",
      "\u001b[1;31mIndexError\u001b[0m                                Traceback (most recent call last)",
      "\u001b[1;32m<ipython-input-11-0bff63dd2717>\u001b[0m in \u001b[0;36m<module>\u001b[1;34m\u001b[0m\n\u001b[0;32m     10\u001b[0m \u001b[0mresult\u001b[0m \u001b[1;33m=\u001b[0m \u001b[0mmodel\u001b[0m\u001b[1;33m.\u001b[0m\u001b[0mpredict_classes\u001b[0m\u001b[1;33m(\u001b[0m\u001b[0marr\u001b[0m\u001b[1;33m.\u001b[0m\u001b[0mreshape\u001b[0m\u001b[1;33m(\u001b[0m\u001b[1;36m1\u001b[0m\u001b[1;33m,\u001b[0m \u001b[1;36m64\u001b[0m\u001b[1;33m,\u001b[0m \u001b[1;36m64\u001b[0m\u001b[1;33m,\u001b[0m \u001b[1;36m1\u001b[0m\u001b[1;33m)\u001b[0m\u001b[1;33m)\u001b[0m\u001b[1;33m\u001b[0m\u001b[1;33m\u001b[0m\u001b[0m\n\u001b[0;32m     11\u001b[0m \u001b[0mprint\u001b[0m\u001b[1;33m(\u001b[0m\u001b[1;34m'예측: {}'\u001b[0m\u001b[1;33m.\u001b[0m\u001b[0mformat\u001b[0m\u001b[1;33m(\u001b[0m\u001b[0mcls_index\u001b[0m\u001b[1;33m[\u001b[0m\u001b[0mresult\u001b[0m\u001b[1;33m[\u001b[0m\u001b[1;36m0\u001b[0m\u001b[1;33m]\u001b[0m\u001b[1;33m]\u001b[0m\u001b[1;33m)\u001b[0m\u001b[1;33m)\u001b[0m\u001b[1;33m\u001b[0m\u001b[1;33m\u001b[0m\u001b[0m\n\u001b[1;32m---> 12\u001b[1;33m \u001b[0mprint\u001b[0m\u001b[1;33m(\u001b[0m\u001b[1;34m'정답: {}'\u001b[0m\u001b[1;33m.\u001b[0m\u001b[0mformat\u001b[0m\u001b[1;33m(\u001b[0m\u001b[0mcls_index\u001b[0m\u001b[1;33m[\u001b[0m\u001b[0mnp\u001b[0m\u001b[1;33m.\u001b[0m\u001b[0margmax\u001b[0m\u001b[1;33m(\u001b[0m\u001b[0mimgs\u001b[0m\u001b[1;33m[\u001b[0m\u001b[1;36m1\u001b[0m\u001b[1;33m]\u001b[0m\u001b[1;33m[\u001b[0m\u001b[1;36m0\u001b[0m\u001b[1;33m]\u001b[0m\u001b[1;33m)\u001b[0m\u001b[1;33m]\u001b[0m\u001b[1;33m)\u001b[0m\u001b[1;33m)\u001b[0m\u001b[1;33m\u001b[0m\u001b[1;33m\u001b[0m\u001b[0m\n\u001b[0m",
      "\u001b[1;31mIndexError\u001b[0m: list index out of range"
     ]
    },
    {
     "data": {
      "image/png": "[encoded data removed]",
      "text/plain": [
       "<Figure size 432x288 with 1 Axes>"
      ]
     },
     "metadata": {
      "needs_background": "light"
     },
     "output_type": "display_data"
    }
   ],
   "source": [
    "from tensorflow.keras.preprocessing.image import array_to_img\n",
    "import numpy as np\n",
    "\n",
    "cls_index = ['Normal','Back', 'Front', 'Left', 'Right']\n",
    "\n",
    "imgs = testGen.next()\n",
    "arr = imgs[0][0]\n",
    "img = array_to_img(arr).resize((64, 64))\n",
    "plt.imshow(img)\n",
    "result = model.predict_classes(arr.reshape(1, 64, 64, 1))\n",
    "print('예측: {}'.format(cls_index[result[0]]))\n",
    "print('정답: {}'.format(cls_index[np.argmax(imgs[1][0])])) "
   ]
  },
  {
   "cell_type": "code",
   "execution_count": null,
   "metadata": {},
   "outputs": [],
   "source": [
    "from tensorflow.keras.preprocessing.image import array_to_img\n",
    "import numpy as np\n",
    "from tqdm.notebook import tqdm\n",
    "\n",
    "cls_index = ['Normal','Back', 'Front', 'Left', 'Right']\n",
    "\n",
    "correct_count = 0\n",
    "total_count = 0\n",
    "\n",
    "for i in tqdm(range(len(testGen.labels))):\n",
    "    imgs = testGen.next()\n",
    "    arr = imgs[0][0]\n",
    "    img = array_to_img(arr).resize((64, 64))\n",
    "#     plt.imshow(img)\n",
    "    result = model.predict_classes(arr.reshape(1, 64, 64, 1))\n",
    "#     print('예측: {}'.format(cls_index[result[0]]))\n",
    "#     print('정답: {}'.format(cls_index[np.argmax(imgs[1][0])])) \n",
    "    \n",
    "    total_count += 1\n",
    "    if cls_index[result[0]] == cls_index[np.argmax(imgs[1][0])]:\n",
    "        correct_count += 1\n",
    "\n",
    "print('전체횟수:{0}, 정답횟수:{1}, 정답률:{2}'.format(total_count, correct_count, correct_count/total_count))\n",
    "plt.imshow(img)\n",
    "print('예측: {}'.format(cls_index[result[0]]))\n",
    "print('정답: {}'.format(cls_index[np.argmax(imgs[1][0])])) "
   ]
  },
  {
   "cell_type": "code",
   "execution_count": null,
   "metadata": {},
   "outputs": [],
   "source": []
  }
 ],
 "metadata": {
  "kernelspec": {
   "display_name": "Python 3",
   "language": "python",
   "name": "python3"
  },
  "language_info": {
   "codemirror_mode": {
    "name": "ipython",
    "version": 3
   },
   "file_extension": ".py",
   "mimetype": "text/x-python",
   "name": "python",
   "nbconvert_exporter": "python",
   "pygments_lexer": "ipython3",
   "version": "3.6.9"
  }
 },
 "nbformat": 4,
 "nbformat_minor": 4
}
