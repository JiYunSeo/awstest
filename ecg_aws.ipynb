{
 "cells": [
  {
   "cell_type": "code",
   "execution_count": 1,
   "metadata": {},
   "outputs": [
    {
     "name": "stdout",
     "output_type": "stream",
     "text": [
      "input/mitbih_test.csv\n",
      "input/mitbih_train.csv\n"
     ]
    }
   ],
   "source": [
    "import numpy as np\n",
    "import pandas as pd\n",
    "import os\n",
    "\n",
    "for dirname, _, filenames in os.walk('input'):\n",
    "    for filename in filenames:\n",
    "        print(os.path.join(dirname, filename))"
   ]
  },
  {
   "cell_type": "code",
   "execution_count": 2,
   "metadata": {},
   "outputs": [],
   "source": [
    "train = pd.read_csv('input/mitbih_train.csv', header=None)\n",
    "test = pd.read_csv('input/mitbih_test.csv', header=None)"
   ]
  },
  {
   "cell_type": "code",
   "execution_count": 3,
   "metadata": {},
   "outputs": [
    {
     "name": "stdout",
     "output_type": "stream",
     "text": [
      "(87554, 188)\n",
      "(21892, 188)\n"
     ]
    }
   ],
   "source": [
    "print(train.shape)\n",
    "print(test.shape)"
   ]
  },
  {
   "cell_type": "code",
   "execution_count": 4,
   "metadata": {},
   "outputs": [
    {
     "name": "stdout",
     "output_type": "stream",
     "text": [
      "0.0    72471\n",
      "4.0     6431\n",
      "2.0     5788\n",
      "1.0     2223\n",
      "3.0      641\n",
      "Name: 187, dtype: int64\n"
     ]
    }
   ],
   "source": [
    "print(train[187].value_counts())"
   ]
  },
  {
   "cell_type": "code",
   "execution_count": 5,
   "metadata": {},
   "outputs": [],
   "source": [
    "train = pd.concat([train, test], axis=0)"
   ]
  },
  {
   "cell_type": "code",
   "execution_count": 6,
   "metadata": {},
   "outputs": [
    {
     "name": "stdout",
     "output_type": "stream",
     "text": [
      "0.0    90589\n",
      "4.0     8039\n",
      "2.0     7236\n",
      "1.0     2779\n",
      "3.0      803\n",
      "Name: 187, dtype: int64\n"
     ]
    }
   ],
   "source": [
    "print(train[187].value_counts())"
   ]
  },
  {
   "cell_type": "code",
   "execution_count": 7,
   "metadata": {},
   "outputs": [],
   "source": [
    "train_target = train[187]\n",
    "label= 187\n",
    "\n",
    "df = train.groupby(label, group_keys=False)\n",
    "train = pd.DataFrame(df.apply(lambda x: x.sample(df.size().min()))).reset_index(drop=True)"
   ]
  },
  {
   "cell_type": "code",
   "execution_count": 8,
   "metadata": {},
   "outputs": [
    {
     "name": "stdout",
     "output_type": "stream",
     "text": [
      "4.0    803\n",
      "3.0    803\n",
      "2.0    803\n",
      "1.0    803\n",
      "0.0    803\n",
      "Name: 187, dtype: int64\n"
     ]
    }
   ],
   "source": [
    "print(train[187].value_counts())"
   ]
  },
  {
   "cell_type": "code",
   "execution_count": 9,
   "metadata": {},
   "outputs": [
    {
     "data": {
      "text/plain": [
       "(4015, 188)"
      ]
     },
     "execution_count": 9,
     "metadata": {},
     "output_type": "execute_result"
    }
   ],
   "source": [
    "train.shape"
   ]
  },
  {
   "cell_type": "code",
   "execution_count": 10,
   "metadata": {},
   "outputs": [],
   "source": [
    "train = train.sample(frac=1)"
   ]
  },
  {
   "cell_type": "code",
   "execution_count": 11,
   "metadata": {
    "scrolled": true
   },
   "outputs": [
    {
     "name": "stderr",
     "output_type": "stream",
     "text": [
      "Using TensorFlow backend.\n"
     ]
    },
    {
     "name": "stdout",
     "output_type": "stream",
     "text": [
      "--- X ---\n",
      "           0         1         2         3         4         5         6    \\\n",
      "1028  0.981132  0.811321  0.183962  0.047170  0.136792  0.250000  0.207547   \n",
      "1808  0.950216  0.930736  0.811688  0.647186  0.506494  0.476190  0.452381   \n",
      "2525  0.825046  1.000000  0.946593  0.523020  0.281768  0.165746  0.151013   \n",
      "2222  1.000000  0.992771  0.934940  0.865060  0.860241  0.840964  0.896386   \n",
      "1873  0.937229  0.958874  0.887446  0.833333  0.790043  0.764069  0.790043   \n",
      "\n",
      "           7         8         9    ...  177  178  179  180  181  182  183  \\\n",
      "1028  0.235849  0.306604  0.283019  ...  0.0  0.0  0.0  0.0  0.0  0.0  0.0   \n",
      "1808  0.523810  0.512987  0.255411  ...  0.0  0.0  0.0  0.0  0.0  0.0  0.0   \n",
      "2525  0.125230  0.116022  0.103131  ...  0.0  0.0  0.0  0.0  0.0  0.0  0.0   \n",
      "2222  0.910843  0.814458  0.520482  ...  0.0  0.0  0.0  0.0  0.0  0.0  0.0   \n",
      "1873  0.729437  0.512987  0.279221  ...  0.0  0.0  0.0  0.0  0.0  0.0  0.0   \n",
      "\n",
      "      184  185  186  \n",
      "1028  0.0  0.0  0.0  \n",
      "1808  0.0  0.0  0.0  \n",
      "2525  0.0  0.0  0.0  \n",
      "2222  0.0  0.0  0.0  \n",
      "1873  0.0  0.0  0.0  \n",
      "\n",
      "[5 rows x 187 columns]\n",
      "<class 'pandas.core.frame.DataFrame'>\n",
      "Int64Index: 4015 entries, 1028 to 2803\n",
      "Columns: 187 entries, 0 to 186\n",
      "dtypes: float64(187)\n",
      "memory usage: 5.8 MB\n",
      "None\n",
      "--- Y ---\n",
      "--- testX ---\n",
      "        0         1         2         3         4         5         6    \\\n",
      "0  1.000000  0.758264  0.111570  0.000000  0.080579  0.078512  0.066116   \n",
      "1  0.908425  0.783883  0.531136  0.362637  0.366300  0.344322  0.333333   \n",
      "2  0.730088  0.212389  0.000000  0.119469  0.101770  0.101770  0.110619   \n",
      "3  1.000000  0.910417  0.681250  0.472917  0.229167  0.068750  0.000000   \n",
      "4  0.570470  0.399329  0.238255  0.147651  0.000000  0.003356  0.040268   \n",
      "\n",
      "        7         8         9    ...  177  178  179  180  181  182  183  184  \\\n",
      "0  0.049587  0.047521  0.035124  ...  0.0  0.0  0.0  0.0  0.0  0.0  0.0  0.0   \n",
      "1  0.307692  0.296703  0.300366  ...  0.0  0.0  0.0  0.0  0.0  0.0  0.0  0.0   \n",
      "2  0.123894  0.115044  0.132743  ...  0.0  0.0  0.0  0.0  0.0  0.0  0.0  0.0   \n",
      "3  0.004167  0.014583  0.054167  ...  0.0  0.0  0.0  0.0  0.0  0.0  0.0  0.0   \n",
      "4  0.080537  0.070470  0.090604  ...  0.0  0.0  0.0  0.0  0.0  0.0  0.0  0.0   \n",
      "\n",
      "   185  186  \n",
      "0  0.0  0.0  \n",
      "1  0.0  0.0  \n",
      "2  0.0  0.0  \n",
      "3  0.0  0.0  \n",
      "4  0.0  0.0  \n",
      "\n",
      "[5 rows x 187 columns]\n",
      "<class 'pandas.core.frame.DataFrame'>\n",
      "RangeIndex: 21892 entries, 0 to 21891\n",
      "Columns: 187 entries, 0 to 186\n",
      "dtypes: float64(187)\n",
      "memory usage: 31.2 MB\n",
      "None\n",
      "--- testy ---\n"
     ]
    }
   ],
   "source": [
    "from keras.utils import to_categorical\n",
    "\n",
    "print(\"--- X ---\")\n",
    "X = train.loc[:, train.columns != 187]\n",
    "print(X.head())\n",
    "print(X.info())\n",
    "\n",
    "print(\"--- Y ---\")\n",
    "y = train.loc[:, train.columns == 187]\n",
    "y = to_categorical(y)\n",
    "\n",
    "print(\"--- testX ---\")\n",
    "testX = test.loc[:, test.columns != 187]\n",
    "print(testX.head())\n",
    "print(testX.info())\n",
    "\n",
    "print(\"--- testy ---\")\n",
    "testy = test.loc[:, test.columns == 187]\n",
    "testy = to_categorical(testy)"
   ]
  },
  {
   "cell_type": "code",
   "execution_count": 12,
   "metadata": {},
   "outputs": [
    {
     "data": {
      "text/plain": [
       "(4015, 187)"
      ]
     },
     "execution_count": 12,
     "metadata": {},
     "output_type": "execute_result"
    }
   ],
   "source": [
    "X.shape"
   ]
  },
  {
   "cell_type": "code",
   "execution_count": 13,
   "metadata": {},
   "outputs": [
    {
     "data": {
      "text/plain": [
       "(4015, 5)"
      ]
     },
     "execution_count": 13,
     "metadata": {},
     "output_type": "execute_result"
    }
   ],
   "source": [
    "y.shape"
   ]
  },
  {
   "cell_type": "code",
   "execution_count": 14,
   "metadata": {},
   "outputs": [
    {
     "data": {
      "text/plain": [
       "(4015, 187, 1)"
      ]
     },
     "execution_count": 14,
     "metadata": {},
     "output_type": "execute_result"
    }
   ],
   "source": [
    "X = np.expand_dims(X,2)\n",
    "testX = np.expand_dims(testX,2)\n",
    "X.shape"
   ]
  },
  {
   "cell_type": "code",
   "execution_count": 15,
   "metadata": {},
   "outputs": [],
   "source": [
    "from keras import backend as K\n",
    "    \n",
    "def f1(y_true, y_pred):\n",
    "    def recall(y_true, y_pred):\n",
    "        \"\"\"Recall metric.\n",
    "        Only computes a batch-wise average of recall.\n",
    "        Computes the recall, a metric for multi-label classification of\n",
    "        how many relevant items are selected.\n",
    "        \"\"\"\n",
    "        true_positives = K.sum(K.round(K.clip(y_true * y_pred, 0, 1)))\n",
    "        possible_positives = K.sum(K.round(K.clip(y_true, 0, 1)))\n",
    "        recall = true_positives / (possible_positives + K.epsilon())\n",
    "        return recall\n",
    " \n",
    "    def precision(y_true, y_pred):\n",
    "        \"\"\"Precision metric.\n",
    "        Only computes a batch-wise average of precision.\n",
    "        Computes the precision, a metric for multi-label classification of\n",
    "        how many selected items are relevant.\n",
    "        \"\"\"\n",
    "        true_positives = K.sum(K.round(K.clip(y_true * y_pred, 0, 1)))\n",
    "        predicted_positives = K.sum(K.round(K.clip(y_pred, 0, 1)))\n",
    "        precision = true_positives / (predicted_positives + K.epsilon())\n",
    "        return precision\n",
    "    precision = precision(y_true, y_pred)\n",
    "    recall = recall(y_true, y_pred)\n",
    "    return 2*((precision*recall)/(precision+recall+K.epsilon()))"
   ]
  },
  {
   "cell_type": "code",
   "execution_count": 16,
   "metadata": {},
   "outputs": [],
   "source": [
    "from keras.models import Sequential\n",
    "from keras.layers import Conv1D, MaxPooling1D, Dense, Dropout, Input, Flatten, SeparableConv1D\n",
    "from keras.layers import GlobalMaxPooling1D\n",
    "from keras.layers.normalization import BatchNormalization\n",
    "from keras.layers.merge import Concatenate\n",
    "from keras.models import Model\n",
    "\n",
    "from keras import backend as K\n",
    "from keras.optimizers import Adam\n",
    "from keras.callbacks import LearningRateScheduler, ModelCheckpoint"
   ]
  },
  {
   "cell_type": "code",
   "execution_count": 17,
   "metadata": {},
   "outputs": [],
   "source": [
    "n_obs, feature, depth = X.shape\n",
    "batch_size = 16"
   ]
  },
  {
   "cell_type": "code",
   "execution_count": 18,
   "metadata": {},
   "outputs": [],
   "source": [
    "def get_model_cnn():\n",
    "    input_img = Input(shape=(feature, depth), name='ImageInput')\n",
    "    x = Conv1D(64, 3, activation='relu', padding='same', name='Conv1_1')(input_img)\n",
    "    x = Conv1D(64, 3, activation='relu', padding='same', name='Conv1_2')(x)\n",
    "    x = MaxPooling1D(2, name='pool1')(x)\n",
    "    \n",
    "    x = SeparableConv1D(64, 3, activation='relu', padding='same', name='Conv2_1')(x)\n",
    "    x = SeparableConv1D(64, 3, activation='relu', padding='same', name='Conv2_2')(x)\n",
    "    x = MaxPooling1D(2, name='pool2')(x)\n",
    "    \n",
    "    x = SeparableConv1D(128, 3, activation='relu', padding='same', name='Conv3_1')(x)\n",
    "    x = BatchNormalization(name='bn1')(x)\n",
    "    \n",
    "    x = SeparableConv1D(256, 3, activation='relu', padding='same', name='Conv3_3')(x)\n",
    "    x = MaxPooling1D(2, name='pool3')(x)\n",
    "    x = Dropout(0.6, name='dropout0')(x)\n",
    "    \n",
    "    x = Flatten(name='flatten')(x)\n",
    "    x = Dense(256, activation='relu', name='fc1')(x)\n",
    "    x = Dropout(0.5, name='dropout1')(x)\n",
    "    x = Dense(128, activation='relu', name='fc2')(x)\n",
    "    x = Dropout(0.5, name='dropout2')(x)\n",
    "    x = Dense(5, activation='softmax', name='fc3')(x)\n",
    "    \n",
    "    model = Model(inputs=input_img, outputs=x)\n",
    "    model.summary()\n",
    "    return model"
   ]
  },
  {
   "cell_type": "code",
   "execution_count": 19,
   "metadata": {
    "scrolled": false
   },
   "outputs": [
    {
     "name": "stdout",
     "output_type": "stream",
     "text": [
      "WARNING:tensorflow:From /usr/local/lib/python3.5/dist-packages/tensorflow_core/python/ops/resource_variable_ops.py:1630: calling BaseResourceVariable.__init__ (from tensorflow.python.ops.resource_variable_ops) with constraint is deprecated and will be removed in a future version.\n",
      "Instructions for updating:\n",
      "If using Keras pass *_constraint arguments to layers.\n",
      "WARNING:tensorflow:From /usr/local/lib/python3.5/dist-packages/keras/backend/tensorflow_backend.py:4070: The name tf.nn.max_pool is deprecated. Please use tf.nn.max_pool2d instead.\n",
      "\n",
      "WARNING:tensorflow:Large dropout rate: 0.6 (>0.5). In TensorFlow 2.x, dropout() uses dropout rate instead of keep_prob. Please ensure that this is intended.\n",
      "Model: \"model_1\"\n",
      "_________________________________________________________________\n",
      "Layer (type)                 Output Shape              Param #   \n",
      "=================================================================\n",
      "ImageInput (InputLayer)      (None, 187, 1)            0         \n",
      "_________________________________________________________________\n",
      "Conv1_1 (Conv1D)             (None, 187, 64)           256       \n",
      "_________________________________________________________________\n",
      "Conv1_2 (Conv1D)             (None, 187, 64)           12352     \n",
      "_________________________________________________________________\n",
      "pool1 (MaxPooling1D)         (None, 93, 64)            0         \n",
      "_________________________________________________________________\n",
      "Conv2_1 (SeparableConv1D)    (None, 93, 64)            4352      \n",
      "_________________________________________________________________\n",
      "Conv2_2 (SeparableConv1D)    (None, 93, 64)            4352      \n",
      "_________________________________________________________________\n",
      "pool2 (MaxPooling1D)         (None, 46, 64)            0         \n",
      "_________________________________________________________________\n",
      "Conv3_1 (SeparableConv1D)    (None, 46, 128)           8512      \n",
      "_________________________________________________________________\n",
      "bn1 (BatchNormalization)     (None, 46, 128)           512       \n",
      "_________________________________________________________________\n",
      "Conv3_3 (SeparableConv1D)    (None, 46, 256)           33408     \n",
      "_________________________________________________________________\n",
      "pool3 (MaxPooling1D)         (None, 23, 256)           0         \n",
      "_________________________________________________________________\n",
      "dropout0 (Dropout)           (None, 23, 256)           0         \n",
      "_________________________________________________________________\n",
      "flatten (Flatten)            (None, 5888)              0         \n",
      "_________________________________________________________________\n",
      "fc1 (Dense)                  (None, 256)               1507584   \n",
      "_________________________________________________________________\n",
      "dropout1 (Dropout)           (None, 256)               0         \n",
      "_________________________________________________________________\n",
      "fc2 (Dense)                  (None, 128)               32896     \n",
      "_________________________________________________________________\n",
      "dropout2 (Dropout)           (None, 128)               0         \n",
      "_________________________________________________________________\n",
      "fc3 (Dense)                  (None, 5)                 645       \n",
      "=================================================================\n",
      "Total params: 1,604,869\n",
      "Trainable params: 1,604,613\n",
      "Non-trainable params: 256\n",
      "_________________________________________________________________\n",
      "WARNING:tensorflow:From /usr/local/lib/python3.5/dist-packages/keras/backend/tensorflow_backend.py:422: The name tf.global_variables is deprecated. Please use tf.compat.v1.global_variables instead.\n",
      "\n",
      "Train on 3613 samples, validate on 402 samples\n",
      "Epoch 1/50\n",
      "3613/3613 [==============================] - 8s 2ms/step - loss: 1.2579 - acc: 0.4595 - f1: 0.3212 - val_loss: 1.4008 - val_acc: 0.5174 - val_f1: 0.0000e+00\n",
      "Epoch 2/50\n",
      "3613/3613 [==============================] - 7s 2ms/step - loss: 0.7686 - acc: 0.7260 - f1: 0.7027 - val_loss: 1.0933 - val_acc: 0.7537 - val_f1: 0.1721\n",
      "Epoch 3/50\n",
      "3613/3613 [==============================] - 7s 2ms/step - loss: 0.6107 - acc: 0.7866 - f1: 0.7728 - val_loss: 0.5740 - val_acc: 0.8060 - val_f1: 0.7884\n",
      "Epoch 4/50\n",
      "3613/3613 [==============================] - 7s 2ms/step - loss: 0.5474 - acc: 0.8096 - f1: 0.8026 - val_loss: 0.5210 - val_acc: 0.8184 - val_f1: 0.7994\n",
      "Epoch 5/50\n",
      "3613/3613 [==============================] - 7s 2ms/step - loss: 0.4993 - acc: 0.8287 - f1: 0.8204 - val_loss: 0.4540 - val_acc: 0.8259 - val_f1: 0.8222\n",
      "Epoch 6/50\n",
      "3613/3613 [==============================] - 7s 2ms/step - loss: 0.4587 - acc: 0.8431 - f1: 0.8338 - val_loss: 0.4389 - val_acc: 0.8308 - val_f1: 0.8286\n",
      "Epoch 7/50\n",
      "3613/3613 [==============================] - 7s 2ms/step - loss: 0.4217 - acc: 0.8519 - f1: 0.8490 - val_loss: 0.4427 - val_acc: 0.8333 - val_f1: 0.8371\n",
      "Epoch 8/50\n",
      "3613/3613 [==============================] - 7s 2ms/step - loss: 0.4026 - acc: 0.8602 - f1: 0.8564 - val_loss: 0.4928 - val_acc: 0.8333 - val_f1: 0.8308\n",
      "Epoch 9/50\n",
      "3613/3613 [==============================] - 7s 2ms/step - loss: 0.3937 - acc: 0.8608 - f1: 0.8583 - val_loss: 0.4571 - val_acc: 0.8308 - val_f1: 0.8289\n",
      "Epoch 10/50\n",
      "3613/3613 [==============================] - 7s 2ms/step - loss: 0.3669 - acc: 0.8691 - f1: 0.8671 - val_loss: 0.4430 - val_acc: 0.8507 - val_f1: 0.8503\n",
      "Epoch 11/50\n",
      "3613/3613 [==============================] - 7s 2ms/step - loss: 0.3456 - acc: 0.8760 - f1: 0.8741 - val_loss: 0.3606 - val_acc: 0.8607 - val_f1: 0.8692\n",
      "Epoch 12/50\n",
      "3613/3613 [==============================] - 7s 2ms/step - loss: 0.3364 - acc: 0.8838 - f1: 0.8791 - val_loss: 0.4275 - val_acc: 0.8507 - val_f1: 0.8562\n",
      "Epoch 13/50\n",
      "3613/3613 [==============================] - 7s 2ms/step - loss: 0.3289 - acc: 0.8843 - f1: 0.8855 - val_loss: 0.3568 - val_acc: 0.8731 - val_f1: 0.8767\n",
      "Epoch 14/50\n",
      "3613/3613 [==============================] - 7s 2ms/step - loss: 0.2923 - acc: 0.9009 - f1: 0.8989 - val_loss: 0.3986 - val_acc: 0.8507 - val_f1: 0.8637\n",
      "Epoch 15/50\n",
      "3613/3613 [==============================] - 7s 2ms/step - loss: 0.2910 - acc: 0.8909 - f1: 0.8906 - val_loss: 0.3524 - val_acc: 0.8856 - val_f1: 0.8857\n",
      "Epoch 16/50\n",
      "3613/3613 [==============================] - 7s 2ms/step - loss: 0.2745 - acc: 0.9020 - f1: 0.8996 - val_loss: 0.3654 - val_acc: 0.8731 - val_f1: 0.8723\n",
      "Epoch 17/50\n",
      "3613/3613 [==============================] - 7s 2ms/step - loss: 0.2635 - acc: 0.9029 - f1: 0.9026 - val_loss: 0.3647 - val_acc: 0.8557 - val_f1: 0.8664\n",
      "Epoch 18/50\n",
      "3613/3613 [==============================] - 7s 2ms/step - loss: 0.2470 - acc: 0.9150 - f1: 0.9120 - val_loss: 0.3706 - val_acc: 0.8682 - val_f1: 0.8756\n",
      "Epoch 19/50\n",
      "3613/3613 [==============================] - 7s 2ms/step - loss: 0.2523 - acc: 0.9128 - f1: 0.9099 - val_loss: 0.3706 - val_acc: 0.8657 - val_f1: 0.8739\n",
      "Epoch 20/50\n",
      "3613/3613 [==============================] - 7s 2ms/step - loss: 0.2369 - acc: 0.9131 - f1: 0.9120 - val_loss: 0.4262 - val_acc: 0.8582 - val_f1: 0.8558\n",
      "Epoch 21/50\n",
      "3613/3613 [==============================] - 7s 2ms/step - loss: 0.2430 - acc: 0.9203 - f1: 0.9181 - val_loss: 0.3872 - val_acc: 0.8806 - val_f1: 0.8844\n",
      "Epoch 22/50\n",
      "3613/3613 [==============================] - 7s 2ms/step - loss: 0.2266 - acc: 0.9181 - f1: 0.9167 - val_loss: 0.4165 - val_acc: 0.8657 - val_f1: 0.8713\n",
      "Epoch 23/50\n",
      "3613/3613 [==============================] - 7s 2ms/step - loss: 0.2449 - acc: 0.9125 - f1: 0.9118 - val_loss: 0.3554 - val_acc: 0.8856 - val_f1: 0.8829\n",
      "Epoch 24/50\n",
      "3613/3613 [==============================] - 7s 2ms/step - loss: 0.2005 - acc: 0.9275 - f1: 0.9278 - val_loss: 0.3946 - val_acc: 0.8731 - val_f1: 0.8820\n",
      "Epoch 25/50\n",
      "3613/3613 [==============================] - 7s 2ms/step - loss: 0.2122 - acc: 0.9219 - f1: 0.9206 - val_loss: 0.3702 - val_acc: 0.8806 - val_f1: 0.8865\n",
      "Epoch 26/50\n",
      "3613/3613 [==============================] - 7s 2ms/step - loss: 0.1880 - acc: 0.9294 - f1: 0.9298 - val_loss: 0.4269 - val_acc: 0.8756 - val_f1: 0.8823\n",
      "Epoch 27/50\n",
      "3613/3613 [==============================] - 7s 2ms/step - loss: 0.1856 - acc: 0.9316 - f1: 0.9305 - val_loss: 0.3998 - val_acc: 0.8905 - val_f1: 0.8910\n",
      "Epoch 28/50\n",
      "3613/3613 [==============================] - 7s 2ms/step - loss: 0.1827 - acc: 0.9291 - f1: 0.9316 - val_loss: 0.4948 - val_acc: 0.8706 - val_f1: 0.8703\n",
      "Epoch 29/50\n",
      "3613/3613 [==============================] - 7s 2ms/step - loss: 0.1987 - acc: 0.9286 - f1: 0.9288 - val_loss: 0.4201 - val_acc: 0.8632 - val_f1: 0.8725\n",
      "Epoch 30/50\n",
      "3613/3613 [==============================] - 7s 2ms/step - loss: 0.1751 - acc: 0.9391 - f1: 0.9394 - val_loss: 0.3738 - val_acc: 0.8905 - val_f1: 0.8945\n",
      "Epoch 31/50\n",
      "3613/3613 [==============================] - 7s 2ms/step - loss: 0.1816 - acc: 0.9350 - f1: 0.9343 - val_loss: 0.4072 - val_acc: 0.8731 - val_f1: 0.8797\n",
      "Epoch 32/50\n",
      "3613/3613 [==============================] - 7s 2ms/step - loss: 0.1542 - acc: 0.9435 - f1: 0.9429 - val_loss: 0.3363 - val_acc: 0.8806 - val_f1: 0.8899\n",
      "Epoch 33/50\n",
      "3613/3613 [==============================] - 7s 2ms/step - loss: 0.1658 - acc: 0.9413 - f1: 0.9412 - val_loss: 0.3554 - val_acc: 0.8806 - val_f1: 0.8931\n",
      "Epoch 34/50\n",
      "3613/3613 [==============================] - 7s 2ms/step - loss: 0.1561 - acc: 0.9441 - f1: 0.9429 - val_loss: 0.3815 - val_acc: 0.8856 - val_f1: 0.8826\n",
      "Epoch 35/50\n",
      "3613/3613 [==============================] - 7s 2ms/step - loss: 0.1653 - acc: 0.9430 - f1: 0.9415 - val_loss: 0.3814 - val_acc: 0.8856 - val_f1: 0.8966\n",
      "Epoch 36/50\n",
      "3613/3613 [==============================] - 7s 2ms/step - loss: 0.1392 - acc: 0.9518 - f1: 0.9512 - val_loss: 0.3898 - val_acc: 0.8831 - val_f1: 0.8899\n",
      "Epoch 37/50\n",
      "3613/3613 [==============================] - 7s 2ms/step - loss: 0.1479 - acc: 0.9496 - f1: 0.9495 - val_loss: 0.4661 - val_acc: 0.8706 - val_f1: 0.8786\n",
      "Epoch 38/50\n",
      "3613/3613 [==============================] - 7s 2ms/step - loss: 0.1504 - acc: 0.9482 - f1: 0.9497 - val_loss: 0.4290 - val_acc: 0.8731 - val_f1: 0.8796\n",
      "Epoch 39/50\n",
      "3613/3613 [==============================] - 7s 2ms/step - loss: 0.1653 - acc: 0.9394 - f1: 0.9410 - val_loss: 0.3472 - val_acc: 0.8831 - val_f1: 0.8924\n",
      "Epoch 40/50\n",
      "3613/3613 [==============================] - 7s 2ms/step - loss: 0.1251 - acc: 0.9571 - f1: 0.9574 - val_loss: 0.4260 - val_acc: 0.8756 - val_f1: 0.8846\n",
      "Epoch 41/50\n",
      "3613/3613 [==============================] - 7s 2ms/step - loss: 0.1351 - acc: 0.9529 - f1: 0.9535 - val_loss: 0.5146 - val_acc: 0.8781 - val_f1: 0.8842\n",
      "Epoch 42/50\n",
      "3613/3613 [==============================] - 7s 2ms/step - loss: 0.1521 - acc: 0.9507 - f1: 0.9513 - val_loss: 0.4143 - val_acc: 0.8856 - val_f1: 0.8940\n",
      "Epoch 43/50\n",
      "3613/3613 [==============================] - 7s 2ms/step - loss: 0.1382 - acc: 0.9505 - f1: 0.9524 - val_loss: 0.3896 - val_acc: 0.8881 - val_f1: 0.8935\n",
      "Epoch 44/50\n",
      "3613/3613 [==============================] - 7s 2ms/step - loss: 0.1373 - acc: 0.9541 - f1: 0.9532 - val_loss: 0.4152 - val_acc: 0.8806 - val_f1: 0.8825\n",
      "Epoch 45/50\n",
      "3613/3613 [==============================] - 7s 2ms/step - loss: 0.1461 - acc: 0.9493 - f1: 0.9498 - val_loss: 0.4649 - val_acc: 0.8856 - val_f1: 0.8899\n",
      "Epoch 46/50\n",
      "3613/3613 [==============================] - 7s 2ms/step - loss: 0.1231 - acc: 0.9529 - f1: 0.9541 - val_loss: 0.4412 - val_acc: 0.8856 - val_f1: 0.8887\n",
      "Epoch 47/50\n",
      "3613/3613 [==============================] - 7s 2ms/step - loss: 0.1215 - acc: 0.9588 - f1: 0.9585 - val_loss: 0.4819 - val_acc: 0.8781 - val_f1: 0.8847\n",
      "Epoch 48/50\n",
      "3613/3613 [==============================] - 7s 2ms/step - loss: 0.1328 - acc: 0.9557 - f1: 0.9555 - val_loss: 0.5931 - val_acc: 0.8806 - val_f1: 0.8878\n",
      "Epoch 49/50\n",
      "3613/3613 [==============================] - 7s 2ms/step - loss: 0.1388 - acc: 0.9557 - f1: 0.9552 - val_loss: 0.4024 - val_acc: 0.9005 - val_f1: 0.9068\n",
      "Epoch 50/50\n",
      "3613/3613 [==============================] - 7s 2ms/step - loss: 0.1350 - acc: 0.9524 - f1: 0.9521 - val_loss: 0.3927 - val_acc: 0.8881 - val_f1: 0.8957\n"
     ]
    }
   ],
   "source": [
    "model =  get_model_cnn()\n",
    "model.compile(optimizer='adam',\n",
    "              loss='categorical_crossentropy',\n",
    "              metrics=['acc',f1])\n",
    "history = model.fit(X, y, validation_split=0.1,epochs=50,batch_size=batch_size,shuffle=True,class_weight='auto')"
   ]
  },
  {
   "cell_type": "code",
   "execution_count": 20,
   "metadata": {},
   "outputs": [
    {
     "name": "stdout",
     "output_type": "stream",
     "text": [
      "Evaluation: \n",
      "21892/21892 [==============================] - 6s 289us/step\n",
      "mean_squared_error : 0.38375415063760254\n",
      "accuracy: 0.8821030259132385\n",
      "F1: 0.8823153972625732\n"
     ]
    }
   ],
   "source": [
    "print(\"Evaluation: \")\n",
    "mse, acc, F1 = model.evaluate(testX, testy)\n",
    "print('mean_squared_error :', mse)\n",
    "print('accuracy:', acc)\n",
    "print('F1:', F1)"
   ]
  },
  {
   "cell_type": "code",
   "execution_count": 21,
   "metadata": {},
   "outputs": [],
   "source": [
    "import matplotlib.pyplot as plt\n",
    "from sklearn.metrics import confusion_matrix\n",
    "\n",
    "def evaluate_model(history,X_test,y_test,model):\n",
    "    scores = model.evaluate((X_test),y_test, verbose=0)\n",
    "    print(\"Accuracy: %.2f%%\" % (scores[1]*100))\n",
    "    \n",
    "    print(history)\n",
    "    fig1, ax_acc = plt.subplots()\n",
    "    plt.plot(history.history['acc'])\n",
    "    plt.plot(history.history['val_acc'])\n",
    "    plt.xlabel('Epoch')\n",
    "    plt.ylabel('Accuracy')\n",
    "    plt.title('Model - Accuracy')\n",
    "    plt.legend(['Training', 'Validation'], loc='lower right')\n",
    "    plt.show()\n",
    "    \n",
    "    fig2, ax_loss = plt.subplots()\n",
    "    plt.xlabel('Epoch')\n",
    "    plt.ylabel('Loss')\n",
    "    plt.title('Model- Loss')\n",
    "    plt.legend(['Training', 'Validation'], loc='upper right')\n",
    "    plt.plot(history.history['loss'])\n",
    "    plt.plot(history.history['val_loss'])\n",
    "    plt.show()\n",
    "    target_names=['0','1','2','3','4']\n",
    "    \n",
    "    y_true=[]\n",
    "    for element in y_test:\n",
    "        y_true.append(np.argmax(element))\n",
    "    prediction_proba=model.predict(X_test)\n",
    "    prediction=np.argmax(prediction_proba,axis=1)\n",
    "    cnf_matrix = confusion_matrix(y_true, prediction)"
   ]
  },
  {
   "cell_type": "code",
   "execution_count": 22,
   "metadata": {},
   "outputs": [
    {
     "name": "stdout",
     "output_type": "stream",
     "text": [
      "Accuracy: 87.61%\n",
      "<keras.callbacks.History object at 0x000002DF445295C0>\n"
     ]
    },
    {
     "data": {
      "image/png": "[encoded data removed]",
      "text/plain": [
       "<Figure size 432x288 with 1 Axes>"
      ]
     },
     "metadata": {
      "needs_background": "light"
     },
     "output_type": "display_data"
    },
    {
     "data": {
      "image/png": "[encoded data removed]",
      "text/plain": [
       "<Figure size 432x288 with 1 Axes>"
      ]
     },
     "metadata": {
      "needs_background": "light"
     },
     "output_type": "display_data"
    }
   ],
   "source": [
    "evaluate_model(history,testX,testy,model)\n",
    "y_pred=model.predict(testX)"
   ]
  },
  {
   "cell_type": "code",
   "execution_count": 23,
   "metadata": {},
   "outputs": [
    {
     "data": {
      "image/png": "[encoded data removed]",
      "text/plain": [
       "<Figure size 432x288 with 2 Axes>"
      ]
     },
     "metadata": {
      "needs_background": "light"
     },
     "output_type": "display_data"
    }
   ],
   "source": [
    "%matplotlib inline\n",
    "\n",
    "import matplotlib.pyplot as plt\n",
    "\n",
    "fig, loss_ax = plt.subplots()\n",
    "\n",
    "\n",
    "acc_ax = loss_ax.twinx()\n",
    "loss_ax.plot(history.history['loss'], 'y--', label='train loss')\n",
    "loss_ax.plot(history.history['val_loss'], 'r', label='val loss')\n",
    "acc_ax.plot(history.history['acc'], 'b--', label='train acc')\n",
    "acc_ax.plot(history.history['val_acc'], 'g', label='val acc')\n",
    "\n",
    "loss_ax.set_xlabel('epoch')\n",
    "loss_ax.set_ylabel('loss')\n",
    "acc_ax.set_ylabel('accuray')\n",
    "\n",
    "loss_ax.legend(loc='upper left', fontsize='10')\n",
    "acc_ax.legend(loc='lower left', fontsize='10')\n",
    "\n",
    "fig.set_size_inches(6, 4)\n",
    "plt.grid(False)\n",
    "plt.show()\n",
    "\n",
    "\n",
    "#train_loss(노란색) : 훈련 손실값이며 x축은 에포크 수, 좌측 y축은 손실값을 나타냅니다.\n",
    "#val_loss(빨간색) : 검증 손실값이며 x축은 에포크 수, 좌측 y축은 손실값을 나타냅니다.\n",
    "#train_acc(파란색) : 훈련 정확도이며 x축은 에포크 수, 우측 y축은 정확도를 나타냅니다.\n",
    "#val_acc(녹색) : 검증 정확도이며 x축은 에포크 수, 우측 y축은 정확도를 나타냅니다."
   ]
  },
  {
   "cell_type": "code",
   "execution_count": 24,
   "metadata": {},
   "outputs": [
    {
     "name": "stdout",
     "output_type": "stream",
     "text": [
      "Normalized confusion matrix\n"
     ]
    },
    {
     "data": {
      "image/png": "[encoded data removed]",
      "text/plain": [
       "<Figure size 720x720 with 2 Axes>"
      ]
     },
     "metadata": {
      "needs_background": "light"
     },
     "output_type": "display_data"
    }
   ],
   "source": [
    "import itertools\n",
    "def plot_confusion_matrix(cm, classes,\n",
    "                          normalize=False,\n",
    "                          title='Confusion matrix',\n",
    "                          cmap=plt.cm.Blues):\n",
    "    \"\"\"\n",
    "    This function prints and plots the confusion matrix.\n",
    "    Normalization can be applied by setting `normalize=True`.\n",
    "    \"\"\"\n",
    "    if normalize:\n",
    "        cm = cm.astype('float') / cm.sum(axis=1)[:, np.newaxis]\n",
    "        print(\"Normalized confusion matrix\")\n",
    "    else:\n",
    "        print('Confusion matrix, without normalization')\n",
    "\n",
    "    plt.imshow(cm, interpolation='nearest', cmap=cmap)\n",
    "    plt.title(title)\n",
    "    plt.colorbar()\n",
    "    tick_marks = np.arange(len(classes))\n",
    "    plt.xticks(tick_marks, classes, rotation=45)\n",
    "    plt.yticks(tick_marks, classes)\n",
    "\n",
    "    fmt = '.2f' if normalize else 'd'\n",
    "    thresh = cm.max() / 2.\n",
    "    for i, j in itertools.product(range(cm.shape[0]), range(cm.shape[1])):\n",
    "        plt.text(j, i, format(cm[i, j], fmt),\n",
    "                 horizontalalignment=\"center\",\n",
    "                 color=\"white\" if cm[i, j] > thresh else \"black\")\n",
    "\n",
    "    plt.tight_layout()\n",
    "    plt.ylabel('True label')\n",
    "    plt.xlabel('Predicted label')\n",
    "\n",
    "# Compute confusion matrix\n",
    "cnf_matrix = confusion_matrix(testy.argmax(axis=1), y_pred.argmax(axis=1))\n",
    "np.set_printoptions(precision=2)\n",
    "\n",
    "# Plot non-normalized confusion matrix\n",
    "plt.figure(figsize=(10, 10))\n",
    "plot_confusion_matrix(cnf_matrix, classes=['N', 'S', 'V', 'F', 'Q'],normalize=True,\n",
    "                      title='Confusion matrix, with normalization')\n",
    "plt.show()"
   ]
  }
 ],
 "metadata": {
  "kernelspec": {
   "display_name": "Python 3",
   "language": "python",
   "name": "python3"
  },
  "language_info": {
   "codemirror_mode": {
    "name": "ipython",
    "version": 3
   },
   "file_extension": ".py",
   "mimetype": "text/x-python",
   "name": "python",
   "nbconvert_exporter": "python",
   "pygments_lexer": "ipython3",
   "version": "3.5.2"
  }
 },
 "nbformat": 4,
 "nbformat_minor": 4
}
